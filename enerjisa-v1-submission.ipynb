{
 "cells": [
  {
   "cell_type": "code",
   "execution_count": 1,
   "id": "0353f1fd",
   "metadata": {
    "_cell_guid": "b1076dfc-b9ad-4769-8c92-a6c4dae69d19",
    "_uuid": "8f2839f25d086af736a60e9eeb907d3b93b6e0e5",
    "execution": {
     "iopub.execute_input": "2022-02-20T13:34:18.717618Z",
     "iopub.status.busy": "2022-02-20T13:34:18.716905Z",
     "iopub.status.idle": "2022-02-20T13:34:18.724073Z",
     "shell.execute_reply": "2022-02-20T13:34:18.724698Z",
     "shell.execute_reply.started": "2022-02-20T11:20:22.760592Z"
    },
    "papermill": {
     "duration": 0.043981,
     "end_time": "2022-02-20T13:34:18.725129",
     "exception": false,
     "start_time": "2022-02-20T13:34:18.681148",
     "status": "completed"
    },
    "tags": []
   },
   "outputs": [
    {
     "name": "stdout",
     "output_type": "stream",
     "text": [
      "/kaggle/input/enerjisa-enerji-veri-maratonu/generation.csv\n",
      "/kaggle/input/enerjisa-enerji-veri-maratonu/sample_submission.csv\n",
      "/kaggle/input/enerjisa-enerji-veri-maratonu/temperature.csv\n"
     ]
    }
   ],
   "source": [
    "# This Python 3 environment comes with many helpful analytics libraries installed\n",
    "# It is defined by the kaggle/python Docker image: https://github.com/kaggle/docker-python\n",
    "# For example, here's several helpful packages to load\n",
    "\n",
    "import numpy as np # linear algebra\n",
    "import pandas as pd # data processing, CSV file I/O (e.g. pd.read_csv)\n",
    "\n",
    "# Input data files are available in the read-only \"../input/\" directory\n",
    "# For example, running this (by clicking run or pressing Shift+Enter) will list all files under the input directory\n",
    "\n",
    "import os\n",
    "for dirname, _, filenames in os.walk('/kaggle/input'):\n",
    "    for filename in filenames:\n",
    "        print(os.path.join(dirname, filename))\n",
    "\n",
    "# You can write up to 20GB to the current directory (/kaggle/working/) that gets preserved as output when you create a version using \"Save & Run All\" \n",
    "# You can also write temporary files to /kaggle/temp/, but they won't be saved outside of the current session"
   ]
  },
  {
   "cell_type": "code",
   "execution_count": 2,
   "id": "21c87a04",
   "metadata": {
    "execution": {
     "iopub.execute_input": "2022-02-20T13:34:18.777338Z",
     "iopub.status.busy": "2022-02-20T13:34:18.776565Z",
     "iopub.status.idle": "2022-02-20T13:34:27.036101Z",
     "shell.execute_reply": "2022-02-20T13:34:27.034988Z",
     "shell.execute_reply.started": "2022-02-20T11:20:22.772699Z"
    },
    "papermill": {
     "duration": 8.287161,
     "end_time": "2022-02-20T13:34:27.036296",
     "exception": false,
     "start_time": "2022-02-20T13:34:18.749135",
     "status": "completed"
    },
    "tags": []
   },
   "outputs": [],
   "source": [
    "import numpy as np\n",
    "import pandas as pd\n",
    "import matplotlib.pyplot as plt\n",
    "import seaborn as sns\n",
    "sns.set_theme()\n",
    "\n",
    "import tensorflow as tf\n",
    "from tensorflow.keras.layers import Dense, Dropout, LSTM, BatchNormalization\n",
    "from tensorflow.keras.models import Sequential\n",
    "from tensorflow.keras import callbacks\n",
    "from tensorflow.keras.preprocessing.sequence import TimeseriesGenerator\n",
    "from sklearn.preprocessing import MinMaxScaler"
   ]
  },
  {
   "cell_type": "code",
   "execution_count": 3,
   "id": "1a05dffb",
   "metadata": {
    "execution": {
     "iopub.execute_input": "2022-02-20T13:34:27.107322Z",
     "iopub.status.busy": "2022-02-20T13:34:27.100912Z",
     "iopub.status.idle": "2022-02-20T13:34:30.393203Z",
     "shell.execute_reply": "2022-02-20T13:34:30.393760Z",
     "shell.execute_reply.started": "2022-02-20T11:20:31.837064Z"
    },
    "papermill": {
     "duration": 3.325831,
     "end_time": "2022-02-20T13:34:30.393963",
     "exception": false,
     "start_time": "2022-02-20T13:34:27.068132",
     "status": "completed"
    },
    "tags": []
   },
   "outputs": [
    {
     "data": {
      "text/html": [
       "<div>\n",
       "<style scoped>\n",
       "    .dataframe tbody tr th:only-of-type {\n",
       "        vertical-align: middle;\n",
       "    }\n",
       "\n",
       "    .dataframe tbody tr th {\n",
       "        vertical-align: top;\n",
       "    }\n",
       "\n",
       "    .dataframe thead th {\n",
       "        text-align: right;\n",
       "    }\n",
       "</style>\n",
       "<table border=\"1\" class=\"dataframe\">\n",
       "  <thead>\n",
       "    <tr style=\"text-align: right;\">\n",
       "      <th></th>\n",
       "      <th>DateTime</th>\n",
       "      <th>AirTemperature</th>\n",
       "      <th>ComfortTemperature</th>\n",
       "      <th>RelativeHumidity</th>\n",
       "      <th>WindSpeed</th>\n",
       "      <th>WindDirection</th>\n",
       "      <th>WWCode</th>\n",
       "      <th>EffectiveCloudCover</th>\n",
       "      <th>Generation</th>\n",
       "    </tr>\n",
       "  </thead>\n",
       "  <tbody>\n",
       "    <tr>\n",
       "      <th>0</th>\n",
       "      <td>2019-01-01 00:00:00</td>\n",
       "      <td>-1.7</td>\n",
       "      <td>-6.1</td>\n",
       "      <td>75.3</td>\n",
       "      <td>3.6</td>\n",
       "      <td>60.0</td>\n",
       "      <td>10.0</td>\n",
       "      <td>6.3</td>\n",
       "      <td>0.000000</td>\n",
       "    </tr>\n",
       "    <tr>\n",
       "      <th>1</th>\n",
       "      <td>2019-01-01 01:00:00</td>\n",
       "      <td>-1.8</td>\n",
       "      <td>-5.3</td>\n",
       "      <td>75.3</td>\n",
       "      <td>2.6</td>\n",
       "      <td>70.0</td>\n",
       "      <td>10.0</td>\n",
       "      <td>4.5</td>\n",
       "      <td>0.000000</td>\n",
       "    </tr>\n",
       "    <tr>\n",
       "      <th>2</th>\n",
       "      <td>2019-01-01 02:00:00</td>\n",
       "      <td>-2.0</td>\n",
       "      <td>-6.0</td>\n",
       "      <td>74.7</td>\n",
       "      <td>3.1</td>\n",
       "      <td>80.0</td>\n",
       "      <td>10.0</td>\n",
       "      <td>5.5</td>\n",
       "      <td>0.000008</td>\n",
       "    </tr>\n",
       "    <tr>\n",
       "      <th>3</th>\n",
       "      <td>2019-01-01 03:00:00</td>\n",
       "      <td>-1.9</td>\n",
       "      <td>-5.9</td>\n",
       "      <td>76.4</td>\n",
       "      <td>3.1</td>\n",
       "      <td>60.0</td>\n",
       "      <td>10.0</td>\n",
       "      <td>7.6</td>\n",
       "      <td>0.000000</td>\n",
       "    </tr>\n",
       "    <tr>\n",
       "      <th>4</th>\n",
       "      <td>2019-01-01 04:00:00</td>\n",
       "      <td>-2.0</td>\n",
       "      <td>-7.1</td>\n",
       "      <td>76.4</td>\n",
       "      <td>4.6</td>\n",
       "      <td>60.0</td>\n",
       "      <td>10.0</td>\n",
       "      <td>6.5</td>\n",
       "      <td>0.000008</td>\n",
       "    </tr>\n",
       "    <tr>\n",
       "      <th>...</th>\n",
       "      <td>...</td>\n",
       "      <td>...</td>\n",
       "      <td>...</td>\n",
       "      <td>...</td>\n",
       "      <td>...</td>\n",
       "      <td>...</td>\n",
       "      <td>...</td>\n",
       "      <td>...</td>\n",
       "      <td>...</td>\n",
       "    </tr>\n",
       "    <tr>\n",
       "      <th>25555</th>\n",
       "      <td>2021-11-30 19:00:00</td>\n",
       "      <td>7.1</td>\n",
       "      <td>5.2</td>\n",
       "      <td>76.8</td>\n",
       "      <td>3.1</td>\n",
       "      <td>220.0</td>\n",
       "      <td>25.0</td>\n",
       "      <td>6.0</td>\n",
       "      <td>0.000000</td>\n",
       "    </tr>\n",
       "    <tr>\n",
       "      <th>25556</th>\n",
       "      <td>2021-11-30 20:00:00</td>\n",
       "      <td>7.1</td>\n",
       "      <td>5.7</td>\n",
       "      <td>75.2</td>\n",
       "      <td>2.1</td>\n",
       "      <td>250.0</td>\n",
       "      <td>80.0</td>\n",
       "      <td>6.0</td>\n",
       "      <td>0.000000</td>\n",
       "    </tr>\n",
       "    <tr>\n",
       "      <th>25557</th>\n",
       "      <td>2021-11-30 21:00:00</td>\n",
       "      <td>5.8</td>\n",
       "      <td>3.1</td>\n",
       "      <td>83.4</td>\n",
       "      <td>4.1</td>\n",
       "      <td>280.0</td>\n",
       "      <td>80.0</td>\n",
       "      <td>7.0</td>\n",
       "      <td>0.000000</td>\n",
       "    </tr>\n",
       "    <tr>\n",
       "      <th>25558</th>\n",
       "      <td>2021-11-30 22:00:00</td>\n",
       "      <td>5.0</td>\n",
       "      <td>3.3</td>\n",
       "      <td>81.0</td>\n",
       "      <td>2.1</td>\n",
       "      <td>240.0</td>\n",
       "      <td>60.0</td>\n",
       "      <td>6.0</td>\n",
       "      <td>0.000000</td>\n",
       "    </tr>\n",
       "    <tr>\n",
       "      <th>25559</th>\n",
       "      <td>2021-11-30 23:00:00</td>\n",
       "      <td>5.0</td>\n",
       "      <td>4.8</td>\n",
       "      <td>85.7</td>\n",
       "      <td>1.0</td>\n",
       "      <td>210.0</td>\n",
       "      <td>60.0</td>\n",
       "      <td>6.0</td>\n",
       "      <td>0.000000</td>\n",
       "    </tr>\n",
       "  </tbody>\n",
       "</table>\n",
       "<p>25560 rows × 9 columns</p>\n",
       "</div>"
      ],
      "text/plain": [
       "                 DateTime  AirTemperature  ComfortTemperature  \\\n",
       "0     2019-01-01 00:00:00            -1.7                -6.1   \n",
       "1     2019-01-01 01:00:00            -1.8                -5.3   \n",
       "2     2019-01-01 02:00:00            -2.0                -6.0   \n",
       "3     2019-01-01 03:00:00            -1.9                -5.9   \n",
       "4     2019-01-01 04:00:00            -2.0                -7.1   \n",
       "...                   ...             ...                 ...   \n",
       "25555 2021-11-30 19:00:00             7.1                 5.2   \n",
       "25556 2021-11-30 20:00:00             7.1                 5.7   \n",
       "25557 2021-11-30 21:00:00             5.8                 3.1   \n",
       "25558 2021-11-30 22:00:00             5.0                 3.3   \n",
       "25559 2021-11-30 23:00:00             5.0                 4.8   \n",
       "\n",
       "       RelativeHumidity  WindSpeed  WindDirection  WWCode  \\\n",
       "0                  75.3        3.6           60.0    10.0   \n",
       "1                  75.3        2.6           70.0    10.0   \n",
       "2                  74.7        3.1           80.0    10.0   \n",
       "3                  76.4        3.1           60.0    10.0   \n",
       "4                  76.4        4.6           60.0    10.0   \n",
       "...                 ...        ...            ...     ...   \n",
       "25555              76.8        3.1          220.0    25.0   \n",
       "25556              75.2        2.1          250.0    80.0   \n",
       "25557              83.4        4.1          280.0    80.0   \n",
       "25558              81.0        2.1          240.0    60.0   \n",
       "25559              85.7        1.0          210.0    60.0   \n",
       "\n",
       "       EffectiveCloudCover  Generation  \n",
       "0                      6.3    0.000000  \n",
       "1                      4.5    0.000000  \n",
       "2                      5.5    0.000008  \n",
       "3                      7.6    0.000000  \n",
       "4                      6.5    0.000008  \n",
       "...                    ...         ...  \n",
       "25555                  6.0    0.000000  \n",
       "25556                  6.0    0.000000  \n",
       "25557                  7.0    0.000000  \n",
       "25558                  6.0    0.000000  \n",
       "25559                  6.0    0.000000  \n",
       "\n",
       "[25560 rows x 9 columns]"
      ]
     },
     "execution_count": 3,
     "metadata": {},
     "output_type": "execute_result"
    }
   ],
   "source": [
    "gen=pd.read_csv('../input/enerjisa-enerji-veri-maratonu/generation.csv', sep=';', decimal=',', parse_dates=True)\n",
    "#generation_nandrop=generation_source.dropna()\n",
    "\n",
    "temp=pd.read_csv('../input/enerjisa-enerji-veri-maratonu/temperature.csv', sep=';', decimal=',', parse_dates=True)\n",
    "#temperature_nandrop=temperature_source.drop(temperature_source.tail(95).index)\n",
    "\n",
    "df_train=temp.merge(gen, on='DateTime', how='left')\n",
    "df_train.drop(df_train.index[25560:], axis=0, inplace=True)\n",
    "\n",
    "df_train['DateTime'] = pd.to_datetime(df_train['DateTime'])\n",
    "df_train"
   ]
  },
  {
   "cell_type": "code",
   "execution_count": 4,
   "id": "f1e71cde",
   "metadata": {
    "execution": {
     "iopub.execute_input": "2022-02-20T13:34:30.449223Z",
     "iopub.status.busy": "2022-02-20T13:34:30.448401Z",
     "iopub.status.idle": "2022-02-20T13:34:30.466250Z",
     "shell.execute_reply": "2022-02-20T13:34:30.466901Z",
     "shell.execute_reply.started": "2022-02-20T11:20:35.146703Z"
    },
    "papermill": {
     "duration": 0.049263,
     "end_time": "2022-02-20T13:34:30.467146",
     "exception": false,
     "start_time": "2022-02-20T13:34:30.417883",
     "status": "completed"
    },
    "tags": []
   },
   "outputs": [
    {
     "name": "stdout",
     "output_type": "stream",
     "text": [
      "<class 'pandas.core.frame.DataFrame'>\n",
      "Int64Index: 25560 entries, 0 to 25559\n",
      "Data columns (total 9 columns):\n",
      " #   Column               Non-Null Count  Dtype         \n",
      "---  ------               --------------  -----         \n",
      " 0   DateTime             25560 non-null  datetime64[ns]\n",
      " 1   AirTemperature       25560 non-null  float64       \n",
      " 2   ComfortTemperature   25560 non-null  float64       \n",
      " 3   RelativeHumidity     25560 non-null  float64       \n",
      " 4   WindSpeed            25560 non-null  float64       \n",
      " 5   WindDirection        25560 non-null  float64       \n",
      " 6   WWCode               19306 non-null  float64       \n",
      " 7   EffectiveCloudCover  25560 non-null  float64       \n",
      " 8   Generation           25560 non-null  float64       \n",
      "dtypes: datetime64[ns](1), float64(8)\n",
      "memory usage: 2.0 MB\n"
     ]
    }
   ],
   "source": [
    "df_train.info()"
   ]
  },
  {
   "cell_type": "code",
   "execution_count": 5,
   "id": "1cfde5b7",
   "metadata": {
    "execution": {
     "iopub.execute_input": "2022-02-20T13:34:30.519637Z",
     "iopub.status.busy": "2022-02-20T13:34:30.518781Z",
     "iopub.status.idle": "2022-02-20T13:34:30.529975Z",
     "shell.execute_reply": "2022-02-20T13:34:30.529236Z",
     "shell.execute_reply.started": "2022-02-20T11:20:35.174299Z"
    },
    "papermill": {
     "duration": 0.038962,
     "end_time": "2022-02-20T13:34:30.530149",
     "exception": false,
     "start_time": "2022-02-20T13:34:30.491187",
     "status": "completed"
    },
    "tags": []
   },
   "outputs": [
    {
     "data": {
      "text/plain": [
       "DateTime                  0\n",
       "AirTemperature            0\n",
       "ComfortTemperature        0\n",
       "RelativeHumidity          0\n",
       "WindSpeed                 0\n",
       "WindDirection             0\n",
       "WWCode                 6254\n",
       "EffectiveCloudCover       0\n",
       "Generation                0\n",
       "dtype: int64"
      ]
     },
     "execution_count": 5,
     "metadata": {},
     "output_type": "execute_result"
    }
   ],
   "source": [
    "df_train.isna().sum()"
   ]
  },
  {
   "cell_type": "code",
   "execution_count": 6,
   "id": "c8a96b5c",
   "metadata": {
    "execution": {
     "iopub.execute_input": "2022-02-20T13:34:30.585988Z",
     "iopub.status.busy": "2022-02-20T13:34:30.584101Z",
     "iopub.status.idle": "2022-02-20T13:34:30.594424Z",
     "shell.execute_reply": "2022-02-20T13:34:30.594963Z",
     "shell.execute_reply.started": "2022-02-20T11:20:35.193933Z"
    },
    "papermill": {
     "duration": 0.040866,
     "end_time": "2022-02-20T13:34:30.595171",
     "exception": false,
     "start_time": "2022-02-20T13:34:30.554305",
     "status": "completed"
    },
    "tags": []
   },
   "outputs": [
    {
     "data": {
      "text/plain": [
       "DateTime               0\n",
       "AirTemperature         0\n",
       "ComfortTemperature     0\n",
       "RelativeHumidity       0\n",
       "WindSpeed              0\n",
       "WindDirection          0\n",
       "WWCode                 0\n",
       "EffectiveCloudCover    0\n",
       "Generation             0\n",
       "dtype: int64"
      ]
     },
     "execution_count": 6,
     "metadata": {},
     "output_type": "execute_result"
    }
   ],
   "source": [
    "df_train[\"WWCode\"].fillna(method='ffill',inplace=True)\n",
    "df_train.isna().sum()"
   ]
  },
  {
   "cell_type": "code",
   "execution_count": 7,
   "id": "d25f929f",
   "metadata": {
    "execution": {
     "iopub.execute_input": "2022-02-20T13:34:30.649592Z",
     "iopub.status.busy": "2022-02-20T13:34:30.648355Z",
     "iopub.status.idle": "2022-02-20T13:34:30.744638Z",
     "shell.execute_reply": "2022-02-20T13:34:30.745240Z",
     "shell.execute_reply.started": "2022-02-20T11:20:35.215093Z"
    },
    "papermill": {
     "duration": 0.125408,
     "end_time": "2022-02-20T13:34:30.745463",
     "exception": false,
     "start_time": "2022-02-20T13:34:30.620055",
     "status": "completed"
    },
    "tags": []
   },
   "outputs": [
    {
     "name": "stderr",
     "output_type": "stream",
     "text": [
      "/opt/conda/lib/python3.7/site-packages/ipykernel_launcher.py:3: SettingWithCopyWarning: \n",
      "A value is trying to be set on a copy of a slice from a DataFrame.\n",
      "Try using .loc[row_indexer,col_indexer] = value instead\n",
      "\n",
      "See the caveats in the documentation: https://pandas.pydata.org/pandas-docs/stable/user_guide/indexing.html#returning-a-view-versus-a-copy\n",
      "  This is separate from the ipykernel package so we can avoid doing imports until\n"
     ]
    }
   ],
   "source": [
    "\n",
    "\n",
    "# get test data from the desired date index (25560 index is where the date-time is 01-12-2021)\n",
    "df_test = temp.iloc[25560:26304] \n",
    "df_test['DateTime'] = pd.to_datetime(df_test['DateTime'])"
   ]
  },
  {
   "cell_type": "code",
   "execution_count": 8,
   "id": "fde16223",
   "metadata": {
    "execution": {
     "iopub.execute_input": "2022-02-20T13:34:30.814228Z",
     "iopub.status.busy": "2022-02-20T13:34:30.800799Z",
     "iopub.status.idle": "2022-02-20T13:34:30.816371Z",
     "shell.execute_reply": "2022-02-20T13:34:30.816884Z",
     "shell.execute_reply.started": "2022-02-20T11:20:35.320364Z"
    },
    "papermill": {
     "duration": 0.045446,
     "end_time": "2022-02-20T13:34:30.817090",
     "exception": false,
     "start_time": "2022-02-20T13:34:30.771644",
     "status": "completed"
    },
    "tags": []
   },
   "outputs": [
    {
     "name": "stdout",
     "output_type": "stream",
     "text": [
      "<class 'pandas.core.frame.DataFrame'>\n",
      "RangeIndex: 744 entries, 25560 to 26303\n",
      "Data columns (total 8 columns):\n",
      " #   Column               Non-Null Count  Dtype         \n",
      "---  ------               --------------  -----         \n",
      " 0   DateTime             744 non-null    datetime64[ns]\n",
      " 1   AirTemperature       744 non-null    float64       \n",
      " 2   ComfortTemperature   744 non-null    float64       \n",
      " 3   RelativeHumidity     744 non-null    float64       \n",
      " 4   WindSpeed            744 non-null    float64       \n",
      " 5   WindDirection        744 non-null    float64       \n",
      " 6   WWCode               744 non-null    float64       \n",
      " 7   EffectiveCloudCover  744 non-null    float64       \n",
      "dtypes: datetime64[ns](1), float64(7)\n",
      "memory usage: 46.6 KB\n"
     ]
    }
   ],
   "source": [
    "df_test.info()"
   ]
  },
  {
   "cell_type": "code",
   "execution_count": 9,
   "id": "16e7cf4e",
   "metadata": {
    "execution": {
     "iopub.execute_input": "2022-02-20T13:34:30.871989Z",
     "iopub.status.busy": "2022-02-20T13:34:30.871263Z",
     "iopub.status.idle": "2022-02-20T13:34:30.880943Z",
     "shell.execute_reply": "2022-02-20T13:34:30.880308Z",
     "shell.execute_reply.started": "2022-02-20T11:20:35.338356Z"
    },
    "papermill": {
     "duration": 0.038458,
     "end_time": "2022-02-20T13:34:30.881121",
     "exception": false,
     "start_time": "2022-02-20T13:34:30.842663",
     "status": "completed"
    },
    "tags": []
   },
   "outputs": [
    {
     "data": {
      "text/plain": [
       "DateTime               0\n",
       "AirTemperature         0\n",
       "ComfortTemperature     0\n",
       "RelativeHumidity       0\n",
       "WindSpeed              0\n",
       "WindDirection          0\n",
       "WWCode                 0\n",
       "EffectiveCloudCover    0\n",
       "dtype: int64"
      ]
     },
     "execution_count": 9,
     "metadata": {},
     "output_type": "execute_result"
    }
   ],
   "source": [
    "df_test.isna().sum()"
   ]
  },
  {
   "cell_type": "code",
   "execution_count": 10,
   "id": "d4f7573d",
   "metadata": {
    "execution": {
     "iopub.execute_input": "2022-02-20T13:34:30.938116Z",
     "iopub.status.busy": "2022-02-20T13:34:30.937328Z",
     "iopub.status.idle": "2022-02-20T13:34:31.234109Z",
     "shell.execute_reply": "2022-02-20T13:34:31.234752Z",
     "shell.execute_reply.started": "2022-02-20T11:20:35.354021Z"
    },
    "papermill": {
     "duration": 0.328142,
     "end_time": "2022-02-20T13:34:31.234982",
     "exception": false,
     "start_time": "2022-02-20T13:34:30.906840",
     "status": "completed"
    },
    "tags": []
   },
   "outputs": [
    {
     "name": "stdout",
     "output_type": "stream",
     "text": [
      "DateTime               0\n",
      "AirTemperature         0\n",
      "ComfortTemperature     0\n",
      "RelativeHumidity       0\n",
      "WindSpeed              0\n",
      "WindDirection          0\n",
      "WWCode                 0\n",
      "EffectiveCloudCover    0\n",
      "dtype: int64\n",
      "DateTime                 0\n",
      "AirTemperature         744\n",
      "ComfortTemperature       0\n",
      "RelativeHumidity         0\n",
      "WindSpeed                0\n",
      "WindDirection            0\n",
      "WWCode                   0\n",
      "EffectiveCloudCover      0\n",
      "dtype: int64\n",
      "DateTime                 0\n",
      "AirTemperature           0\n",
      "ComfortTemperature     744\n",
      "RelativeHumidity         0\n",
      "WindSpeed                0\n",
      "WindDirection            0\n",
      "WWCode                   0\n",
      "EffectiveCloudCover      0\n",
      "dtype: int64\n",
      "DateTime                 0\n",
      "AirTemperature           0\n",
      "ComfortTemperature       0\n",
      "RelativeHumidity       744\n",
      "WindSpeed                0\n",
      "WindDirection            0\n",
      "WWCode                   0\n",
      "EffectiveCloudCover      0\n",
      "dtype: int64\n",
      "DateTime                 0\n",
      "AirTemperature           0\n",
      "ComfortTemperature       0\n",
      "RelativeHumidity         0\n",
      "WindSpeed              744\n",
      "WindDirection            0\n",
      "WWCode                   0\n",
      "EffectiveCloudCover      0\n",
      "dtype: int64\n",
      "DateTime                 0\n",
      "AirTemperature           0\n",
      "ComfortTemperature       0\n",
      "RelativeHumidity         0\n",
      "WindSpeed                0\n",
      "WindDirection          744\n",
      "WWCode                   0\n",
      "EffectiveCloudCover      0\n",
      "dtype: int64\n",
      "DateTime                 0\n",
      "AirTemperature           0\n",
      "ComfortTemperature       0\n",
      "RelativeHumidity         0\n",
      "WindSpeed                0\n",
      "WindDirection            0\n",
      "WWCode                 743\n",
      "EffectiveCloudCover      0\n",
      "dtype: int64\n",
      "DateTime                 0\n",
      "AirTemperature           0\n",
      "ComfortTemperature       0\n",
      "RelativeHumidity         0\n",
      "WindSpeed                0\n",
      "WindDirection            0\n",
      "WWCode                   0\n",
      "EffectiveCloudCover    744\n",
      "dtype: int64\n",
      "DateTime               0\n",
      "AirTemperature         0\n",
      "ComfortTemperature     0\n",
      "RelativeHumidity       0\n",
      "WindSpeed              0\n",
      "WindDirection          0\n",
      "WWCode                 0\n",
      "EffectiveCloudCover    0\n",
      "dtype: int64\n"
     ]
    }
   ],
   "source": [
    "for (columnName, columnData) in df_train.iteritems():\n",
    "    print(df_test.isin({columnName: [*columnData]}).sum())"
   ]
  },
  {
   "cell_type": "code",
   "execution_count": 11,
   "id": "1dadd2b2",
   "metadata": {
    "execution": {
     "iopub.execute_input": "2022-02-20T13:34:31.294158Z",
     "iopub.status.busy": "2022-02-20T13:34:31.293399Z",
     "iopub.status.idle": "2022-02-20T13:34:31.299461Z",
     "shell.execute_reply": "2022-02-20T13:34:31.300357Z",
     "shell.execute_reply.started": "2022-02-20T11:20:35.673807Z"
    },
    "papermill": {
     "duration": 0.037056,
     "end_time": "2022-02-20T13:34:31.300632",
     "exception": false,
     "start_time": "2022-02-20T13:34:31.263576",
     "status": "completed"
    },
    "tags": []
   },
   "outputs": [
    {
     "name": "stderr",
     "output_type": "stream",
     "text": [
      "/opt/conda/lib/python3.7/site-packages/ipykernel_launcher.py:1: SettingWithCopyWarning: \n",
      "A value is trying to be set on a copy of a slice from a DataFrame.\n",
      "Try using .loc[row_indexer,col_indexer] = value instead\n",
      "\n",
      "See the caveats in the documentation: https://pandas.pydata.org/pandas-docs/stable/user_guide/indexing.html#returning-a-view-versus-a-copy\n",
      "  \"\"\"Entry point for launching an IPython kernel.\n"
     ]
    }
   ],
   "source": [
    "df_test['WWCode'] = df_test['WWCode'].replace([84], 83)"
   ]
  },
  {
   "cell_type": "code",
   "execution_count": 12,
   "id": "c66d2ff9",
   "metadata": {
    "execution": {
     "iopub.execute_input": "2022-02-20T13:34:31.364043Z",
     "iopub.status.busy": "2022-02-20T13:34:31.363248Z",
     "iopub.status.idle": "2022-02-20T13:34:31.366148Z",
     "shell.execute_reply": "2022-02-20T13:34:31.366663Z",
     "shell.execute_reply.started": "2022-02-20T11:20:35.684706Z"
    },
    "papermill": {
     "duration": 0.037579,
     "end_time": "2022-02-20T13:34:31.366904",
     "exception": false,
     "start_time": "2022-02-20T13:34:31.329325",
     "status": "completed"
    },
    "tags": []
   },
   "outputs": [
    {
     "data": {
      "text/plain": [
       "(25560, 744)"
      ]
     },
     "execution_count": 12,
     "metadata": {},
     "output_type": "execute_result"
    }
   ],
   "source": [
    "len(df_train), len(df_test)"
   ]
  },
  {
   "cell_type": "code",
   "execution_count": 13,
   "id": "f57fddbc",
   "metadata": {
    "execution": {
     "iopub.execute_input": "2022-02-20T13:34:31.425550Z",
     "iopub.status.busy": "2022-02-20T13:34:31.424792Z",
     "iopub.status.idle": "2022-02-20T13:34:31.428778Z",
     "shell.execute_reply": "2022-02-20T13:34:31.429365Z",
     "shell.execute_reply.started": "2022-02-20T11:20:35.700328Z"
    },
    "papermill": {
     "duration": 0.034951,
     "end_time": "2022-02-20T13:34:31.429579",
     "exception": false,
     "start_time": "2022-02-20T13:34:31.394628",
     "status": "completed"
    },
    "tags": []
   },
   "outputs": [],
   "source": [
    "#df_train['Generation'] = np.log1p(df_train[\"Generation\"].values)\n",
    "\n",
    "\n",
    "#Thanks to other partipiciant's work I know exactly how to deal with this feature (reference link at the end of the notebook)\n",
    "#merged['WWCode']=merged['WWCode'].replace([84], 83)\n",
    "\n",
    "#saving copies\n",
    "#datetime_copy=merged['DateTime']\n",
    "#merged_with_dt_as_column=merged\n",
    "#merged=merged.set_index('DateTime')\n",
    "#merged.index.freq='H'\n",
    "\n",
    "# normalizing\n",
    "#merged['WindDirection']=merged['WindDirection']/10\n",
    "#merged['WWCode']=merged['WWCode']/10\n",
    "\n",
    "#merged"
   ]
  },
  {
   "cell_type": "code",
   "execution_count": 14,
   "id": "7927e319",
   "metadata": {
    "execution": {
     "iopub.execute_input": "2022-02-20T13:34:31.487115Z",
     "iopub.status.busy": "2022-02-20T13:34:31.486382Z",
     "iopub.status.idle": "2022-02-20T13:34:31.496377Z",
     "shell.execute_reply": "2022-02-20T13:34:31.495715Z",
     "shell.execute_reply.started": "2022-02-20T11:20:35.719427Z"
    },
    "papermill": {
     "duration": 0.040079,
     "end_time": "2022-02-20T13:34:31.496538",
     "exception": false,
     "start_time": "2022-02-20T13:34:31.456459",
     "status": "completed"
    },
    "tags": []
   },
   "outputs": [],
   "source": [
    "df_train=df_train.set_index('DateTime')\n",
    "df_train.index.freq='H'"
   ]
  },
  {
   "cell_type": "code",
   "execution_count": null,
   "id": "57022509",
   "metadata": {
    "papermill": {
     "duration": 0.026699,
     "end_time": "2022-02-20T13:34:31.550287",
     "exception": false,
     "start_time": "2022-02-20T13:34:31.523588",
     "status": "completed"
    },
    "tags": []
   },
   "outputs": [],
   "source": []
  },
  {
   "cell_type": "code",
   "execution_count": null,
   "id": "def2c0c7",
   "metadata": {
    "papermill": {
     "duration": 0.02662,
     "end_time": "2022-02-20T13:34:31.603907",
     "exception": false,
     "start_time": "2022-02-20T13:34:31.577287",
     "status": "completed"
    },
    "tags": []
   },
   "outputs": [],
   "source": []
  },
  {
   "cell_type": "code",
   "execution_count": 15,
   "id": "86850fa9",
   "metadata": {
    "execution": {
     "iopub.execute_input": "2022-02-20T13:34:31.667667Z",
     "iopub.status.busy": "2022-02-20T13:34:31.661791Z",
     "iopub.status.idle": "2022-02-20T13:37:56.024593Z",
     "shell.execute_reply": "2022-02-20T13:37:56.025562Z",
     "shell.execute_reply.started": "2022-02-20T11:20:35.738775Z"
    },
    "papermill": {
     "duration": 204.394856,
     "end_time": "2022-02-20T13:37:56.025837",
     "exception": false,
     "start_time": "2022-02-20T13:34:31.630981",
     "status": "completed"
    },
    "tags": []
   },
   "outputs": [
    {
     "name": "stderr",
     "output_type": "stream",
     "text": [
      "2022-02-20 13:34:31.857024: I tensorflow/core/common_runtime/process_util.cc:146] Creating new thread pool with default inter op setting: 2. Tune using inter_op_parallelism_threads for best performance.\n",
      "2022-02-20 13:34:33.739009: I tensorflow/compiler/mlir/mlir_graph_optimization_pass.cc:185] None of the MLIR Optimization Passes are enabled (registered 2)\n"
     ]
    },
    {
     "name": "stdout",
     "output_type": "stream",
     "text": [
      "Epoch 1/5\n",
      "205/205 [==============================] - 54s 201ms/step - loss: 0.5473 - mse: 0.5473 - val_loss: 0.0262 - val_mse: 0.0262\n",
      "Epoch 2/5\n",
      "205/205 [==============================] - 38s 184ms/step - loss: 0.1224 - mse: 0.1224 - val_loss: 0.0115 - val_mse: 0.0115\n",
      "Epoch 3/5\n",
      "205/205 [==============================] - 37s 181ms/step - loss: 0.0448 - mse: 0.0448 - val_loss: 0.0073 - val_mse: 0.0073\n",
      "Epoch 4/5\n",
      "205/205 [==============================] - 37s 180ms/step - loss: 0.0207 - mse: 0.0207 - val_loss: 0.0067 - val_mse: 0.0067\n",
      "Epoch 5/5\n",
      "205/205 [==============================] - 37s 180ms/step - loss: 0.0125 - mse: 0.0125 - val_loss: 0.0065 - val_mse: 0.0065\n"
     ]
    }
   ],
   "source": [
    "#training data\n",
    "#df_for_training=merged.drop(merged.tail(31*24).index)\n",
    "df_for_training=df_train\n",
    "\n",
    "\n",
    "# hyperparameters\n",
    "LEARNING_RATE=1e-3\n",
    "DECAY=1e-5\n",
    "MAX_EPOCHS=5\n",
    "BATCH_SIZE=100\n",
    "VALID_SPLIT=0.2\n",
    "PATIENCE=10\n",
    "\n",
    "n_future=1*24\n",
    "n_past=1*24\n",
    "\n",
    "scaler=MinMaxScaler()\n",
    "scaler=scaler.fit(df_for_training)\n",
    "df_for_training_scaled=scaler.transform(df_for_training)\n",
    "\n",
    "#creating the required shape for LSTM network (samples (rows), timesteps, features (columns))\n",
    "trainX=[]\n",
    "trainY=[]\n",
    "\n",
    "for i in range(n_past, len(df_for_training_scaled)-n_future+1):\n",
    "    trainX.append(df_for_training_scaled[i - n_past:i, 0:df_for_training.shape[1]])\n",
    "    trainY.append(df_for_training_scaled[i + n_future - 1:i + n_future, 0])\n",
    "\n",
    "trainX, trainY=np.array(trainX), np.array(trainY)\n",
    "\n",
    "#model architecture\n",
    "model=Sequential()\n",
    "\n",
    "model.add(LSTM(32, input_shape=(trainX.shape[1], trainX.shape[2]), return_sequences=True))\n",
    "model.add(Dropout(0.5))\n",
    "model.add(BatchNormalization())\n",
    "\n",
    "model.add(LSTM(64, return_sequences=True))\n",
    "model.add(Dropout(0.5))\n",
    "model.add(BatchNormalization())\n",
    "\n",
    "model.add(LSTM(128, return_sequences=True))\n",
    "model.add(Dropout(0.5))\n",
    "model.add(BatchNormalization())\n",
    "\n",
    "model.add(LSTM(64, return_sequences=True))\n",
    "model.add(Dropout(0.5))\n",
    "model.add(BatchNormalization())\n",
    "\n",
    "model.add(LSTM(32, return_sequences=False))\n",
    "model.add(Dropout(0.5))\n",
    "model.add(BatchNormalization())\n",
    "\n",
    "model.add(Dense(1))\n",
    "\n",
    "#optimizing and training\n",
    "opt=tf.keras.optimizers.Adam(learning_rate=LEARNING_RATE, decay=DECAY)\n",
    "\n",
    "model.compile(loss='mse', optimizer=opt, metrics=['mse'])\n",
    "early_stopping=tf.keras.callbacks.EarlyStopping(patience=PATIENCE, restore_best_weights=True)\n",
    "\n",
    "history=model.fit(trainX, trainY,\n",
    "        epochs=MAX_EPOCHS, batch_size=BATCH_SIZE, validation_split=VALID_SPLIT,\n",
    "                 callbacks=[early_stopping], verbose=1)\n",
    "\n",
    "\n",
    "#model.compile(optimizer='rmsprop', loss='binary_crossentropy', metrics=['acc'])\n",
    "#y2 = df[\"rating\"].apply(lambda x: (x - min_rating) / (max_rating - min_rating)).values\n",
    "#model.fit(partial_x_train, partial_y_train, epochs=Numepochs, batch_size=Batchsize, validation_data=(x_val, y_val))"
   ]
  },
  {
   "cell_type": "code",
   "execution_count": 16,
   "id": "de9d2cf4",
   "metadata": {
    "execution": {
     "iopub.execute_input": "2022-02-20T13:37:56.831173Z",
     "iopub.status.busy": "2022-02-20T13:37:56.830145Z",
     "iopub.status.idle": "2022-02-20T13:37:57.261890Z",
     "shell.execute_reply": "2022-02-20T13:37:57.262419Z",
     "shell.execute_reply.started": "2022-02-20T11:24:08.920856Z"
    },
    "papermill": {
     "duration": 0.833639,
     "end_time": "2022-02-20T13:37:57.262652",
     "exception": false,
     "start_time": "2022-02-20T13:37:56.429013",
     "status": "completed"
    },
    "tags": []
   },
   "outputs": [
    {
     "name": "stdout",
     "output_type": "stream",
     "text": [
      "Minimum Validation Loss: 0.0065\n"
     ]
    },
    {
     "data": {
      "image/png": "[encoded data removed]",
      "text/plain": [
       "<Figure size 1152x576 with 1 Axes>"
      ]
     },
     "metadata": {},
     "output_type": "display_data"
    }
   ],
   "source": [
    "\n",
    "\n",
    "history_df = pd.DataFrame(history.history)\n",
    "history_df.loc[:, ['loss', 'val_loss']].plot(figsize=(16,8))\n",
    "print(\"Minimum Validation Loss: {:0.4f}\".format(history_df['val_loss'].min()))"
   ]
  },
  {
   "cell_type": "code",
   "execution_count": 17,
   "id": "049f5bff",
   "metadata": {
    "execution": {
     "iopub.execute_input": "2022-02-20T13:37:58.087701Z",
     "iopub.status.busy": "2022-02-20T13:37:58.086659Z",
     "iopub.status.idle": "2022-02-20T13:38:01.501190Z",
     "shell.execute_reply": "2022-02-20T13:38:01.501719Z",
     "shell.execute_reply.started": "2022-02-20T11:24:09.418933Z"
    },
    "papermill": {
     "duration": 3.832944,
     "end_time": "2022-02-20T13:38:01.501972",
     "exception": false,
     "start_time": "2022-02-20T13:37:57.669028",
     "status": "completed"
    },
    "tags": []
   },
   "outputs": [
    {
     "data": {
      "text/plain": [
       "[<matplotlib.lines.Line2D at 0x7f6ab8fd07d0>]"
      ]
     },
     "execution_count": 17,
     "metadata": {},
     "output_type": "execute_result"
    },
    {
     "data": {
      "image/png": "[encoded data removed]",
      "text/plain": [
       "<Figure size 1152x576 with 1 Axes>"
      ]
     },
     "metadata": {},
     "output_type": "display_data"
    }
   ],
   "source": [
    "n_hours_for_prediction=24*31 \n",
    "\n",
    "forecast=model.predict(trainX[-n_hours_for_prediction:])\n",
    "\n",
    "forecast_copies=np.repeat(forecast, df_for_training.shape[1], axis=-1)\n",
    "y_pred_future=scaler.inverse_transform(forecast_copies)[:,0]\n",
    "\n",
    "\n",
    "plt.figure(figsize=(16,8))\n",
    "plt.plot(y_pred_future)"
   ]
  },
  {
   "cell_type": "code",
   "execution_count": 18,
   "id": "3beb724e",
   "metadata": {
    "execution": {
     "iopub.execute_input": "2022-02-20T13:38:02.341363Z",
     "iopub.status.busy": "2022-02-20T13:38:02.340587Z",
     "iopub.status.idle": "2022-02-20T13:38:02.390139Z",
     "shell.execute_reply": "2022-02-20T13:38:02.389372Z",
     "shell.execute_reply.started": "2022-02-20T11:24:13.130832Z"
    },
    "papermill": {
     "duration": 0.469798,
     "end_time": "2022-02-20T13:38:02.390329",
     "exception": false,
     "start_time": "2022-02-20T13:38:01.920531",
     "status": "completed"
    },
    "tags": []
   },
   "outputs": [
    {
     "name": "stdout",
     "output_type": "stream",
     "text": [
      "[8.940051942814199]\n",
      "RMSE Score:  8.940051942814199\n"
     ]
    }
   ],
   "source": [
    "from sklearn.metrics import mean_squared_error\n",
    "rmse_score = np.sqrt(mean_squared_error(trainY[-n_hours_for_prediction:], y_pred_future))\n",
    "\n",
    "score_list = []\n",
    "score_list.append(rmse_score)\n",
    "\n",
    "\n",
    "print(score_list)\n",
    "print(\"RMSE Score: \", np.mean(score_list))"
   ]
  },
  {
   "cell_type": "code",
   "execution_count": 19,
   "id": "a8ab0ac9",
   "metadata": {
    "execution": {
     "iopub.execute_input": "2022-02-20T13:38:03.223781Z",
     "iopub.status.busy": "2022-02-20T13:38:03.223017Z",
     "iopub.status.idle": "2022-02-20T13:38:03.242642Z",
     "shell.execute_reply": "2022-02-20T13:38:03.243433Z",
     "shell.execute_reply.started": "2022-02-20T11:24:13.190399Z"
    },
    "papermill": {
     "duration": 0.43846,
     "end_time": "2022-02-20T13:38:03.243702",
     "exception": false,
     "start_time": "2022-02-20T13:38:02.805242",
     "status": "completed"
    },
    "tags": []
   },
   "outputs": [
    {
     "name": "stdout",
     "output_type": "stream",
     "text": [
      "Submission File Created\n"
     ]
    }
   ],
   "source": [
    "submission = pd.read_csv('../input/enerjisa-enerji-veri-maratonu/sample_submission.csv')\n",
    "submission['Generation'] = y_pred_future\n",
    "submission.to_csv('submission.csv', index=False)\n",
    "print(\"Submission File Created\")"
   ]
  }
 ],
 "metadata": {
  "kernelspec": {
   "display_name": "Python 3",
   "language": "python",
   "name": "python3"
  },
  "language_info": {
   "codemirror_mode": {
    "name": "ipython",
    "version": 3
   },
   "file_extension": ".py",
   "mimetype": "text/x-python",
   "name": "python",
   "nbconvert_exporter": "python",
   "pygments_lexer": "ipython3",
   "version": "3.7.12"
  },
  "papermill": {
   "default_parameters": {},
   "duration": 240.109324,
   "end_time": "2022-02-20T13:38:06.941351",
   "environment_variables": {},
   "exception": null,
   "input_path": "__notebook__.ipynb",
   "output_path": "__notebook__.ipynb",
   "parameters": {},
   "start_time": "2022-02-20T13:34:06.832027",
   "version": "2.3.3"
  }
 },
 "nbformat": 4,
 "nbformat_minor": 5
}
