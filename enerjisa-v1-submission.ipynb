{
 "cells": [
  {
   "cell_type": "code",
   "execution_count": 1,
   "id": "da3a520f",
   "metadata": {
    "_cell_guid": "b1076dfc-b9ad-4769-8c92-a6c4dae69d19",
    "_uuid": "8f2839f25d086af736a60e9eeb907d3b93b6e0e5",
    "execution": {
     "iopub.execute_input": "2022-02-19T20:58:32.031689Z",
     "iopub.status.busy": "2022-02-19T20:58:32.030993Z",
     "iopub.status.idle": "2022-02-19T20:58:32.036878Z",
     "shell.execute_reply": "2022-02-19T20:58:32.037441Z",
     "shell.execute_reply.started": "2022-02-19T20:49:15.813948Z"
    },
    "papermill": {
     "duration": 0.033295,
     "end_time": "2022-02-19T20:58:32.037733",
     "exception": false,
     "start_time": "2022-02-19T20:58:32.004438",
     "status": "completed"
    },
    "tags": []
   },
   "outputs": [
    {
     "name": "stdout",
     "output_type": "stream",
     "text": [
      "/kaggle/input/enerjisa-enerji-veri-maratonu/generation.csv\n",
      "/kaggle/input/enerjisa-enerji-veri-maratonu/sample_submission.csv\n",
      "/kaggle/input/enerjisa-enerji-veri-maratonu/temperature.csv\n"
     ]
    }
   ],
   "source": [
    "# This Python 3 environment comes with many helpful analytics libraries installed\n",
    "# It is defined by the kaggle/python Docker image: https://github.com/kaggle/docker-python\n",
    "# For example, here's several helpful packages to load\n",
    "\n",
    "import numpy as np # linear algebra\n",
    "import pandas as pd # data processing, CSV file I/O (e.g. pd.read_csv)\n",
    "\n",
    "# Input data files are available in the read-only \"../input/\" directory\n",
    "# For example, running this (by clicking run or pressing Shift+Enter) will list all files under the input directory\n",
    "\n",
    "import os\n",
    "for dirname, _, filenames in os.walk('/kaggle/input'):\n",
    "    for filename in filenames:\n",
    "        print(os.path.join(dirname, filename))\n",
    "\n",
    "# You can write up to 20GB to the current directory (/kaggle/working/) that gets preserved as output when you create a version using \"Save & Run All\" \n",
    "# You can also write temporary files to /kaggle/temp/, but they won't be saved outside of the current session"
   ]
  },
  {
   "cell_type": "code",
   "execution_count": 2,
   "id": "c2f7b442",
   "metadata": {
    "execution": {
     "iopub.execute_input": "2022-02-19T20:58:32.072002Z",
     "iopub.status.busy": "2022-02-19T20:58:32.071296Z",
     "iopub.status.idle": "2022-02-19T20:58:39.010811Z",
     "shell.execute_reply": "2022-02-19T20:58:39.010266Z",
     "shell.execute_reply.started": "2022-02-19T20:49:15.849233Z"
    },
    "papermill": {
     "duration": 6.958048,
     "end_time": "2022-02-19T20:58:39.010974",
     "exception": false,
     "start_time": "2022-02-19T20:58:32.052926",
     "status": "completed"
    },
    "tags": []
   },
   "outputs": [],
   "source": [
    "import numpy as np\n",
    "import pandas as pd\n",
    "import matplotlib.pyplot as plt\n",
    "import seaborn as sns\n",
    "sns.set_theme()\n",
    "\n",
    "import tensorflow as tf\n",
    "from tensorflow.keras.layers import Dense, Dropout, LSTM, BatchNormalization\n",
    "from tensorflow.keras.models import Sequential\n",
    "from tensorflow.keras import callbacks\n",
    "from tensorflow.keras.preprocessing.sequence import TimeseriesGenerator\n",
    "from sklearn.preprocessing import MinMaxScaler"
   ]
  },
  {
   "cell_type": "code",
   "execution_count": 3,
   "id": "40678dc1",
   "metadata": {
    "execution": {
     "iopub.execute_input": "2022-02-19T20:58:39.040312Z",
     "iopub.status.busy": "2022-02-19T20:58:39.039580Z",
     "iopub.status.idle": "2022-02-19T20:58:42.397788Z",
     "shell.execute_reply": "2022-02-19T20:58:42.398360Z",
     "shell.execute_reply.started": "2022-02-19T20:49:23.140068Z"
    },
    "papermill": {
     "duration": 3.37471,
     "end_time": "2022-02-19T20:58:42.398540",
     "exception": false,
     "start_time": "2022-02-19T20:58:39.023830",
     "status": "completed"
    },
    "tags": []
   },
   "outputs": [
    {
     "data": {
      "text/html": [
       "<div>\n",
       "<style scoped>\n",
       "    .dataframe tbody tr th:only-of-type {\n",
       "        vertical-align: middle;\n",
       "    }\n",
       "\n",
       "    .dataframe tbody tr th {\n",
       "        vertical-align: top;\n",
       "    }\n",
       "\n",
       "    .dataframe thead th {\n",
       "        text-align: right;\n",
       "    }\n",
       "</style>\n",
       "<table border=\"1\" class=\"dataframe\">\n",
       "  <thead>\n",
       "    <tr style=\"text-align: right;\">\n",
       "      <th></th>\n",
       "      <th>AirTemperature</th>\n",
       "      <th>ComfortTemperature</th>\n",
       "      <th>RelativeHumidity</th>\n",
       "      <th>WindSpeed</th>\n",
       "      <th>WindDirection</th>\n",
       "      <th>WWCode</th>\n",
       "      <th>EffectiveCloudCover</th>\n",
       "      <th>Generation</th>\n",
       "    </tr>\n",
       "    <tr>\n",
       "      <th>DateTime</th>\n",
       "      <th></th>\n",
       "      <th></th>\n",
       "      <th></th>\n",
       "      <th></th>\n",
       "      <th></th>\n",
       "      <th></th>\n",
       "      <th></th>\n",
       "      <th></th>\n",
       "    </tr>\n",
       "  </thead>\n",
       "  <tbody>\n",
       "    <tr>\n",
       "      <th>2019-01-01 00:00:00</th>\n",
       "      <td>-1.7</td>\n",
       "      <td>-6.1</td>\n",
       "      <td>75.3</td>\n",
       "      <td>3.6</td>\n",
       "      <td>60.0</td>\n",
       "      <td>10.0</td>\n",
       "      <td>6.3</td>\n",
       "      <td>0.000000</td>\n",
       "    </tr>\n",
       "    <tr>\n",
       "      <th>2019-01-01 01:00:00</th>\n",
       "      <td>-1.8</td>\n",
       "      <td>-5.3</td>\n",
       "      <td>75.3</td>\n",
       "      <td>2.6</td>\n",
       "      <td>70.0</td>\n",
       "      <td>10.0</td>\n",
       "      <td>4.5</td>\n",
       "      <td>0.000000</td>\n",
       "    </tr>\n",
       "    <tr>\n",
       "      <th>2019-01-01 02:00:00</th>\n",
       "      <td>-2.0</td>\n",
       "      <td>-6.0</td>\n",
       "      <td>74.7</td>\n",
       "      <td>3.1</td>\n",
       "      <td>80.0</td>\n",
       "      <td>10.0</td>\n",
       "      <td>5.5</td>\n",
       "      <td>0.000008</td>\n",
       "    </tr>\n",
       "    <tr>\n",
       "      <th>2019-01-01 03:00:00</th>\n",
       "      <td>-1.9</td>\n",
       "      <td>-5.9</td>\n",
       "      <td>76.4</td>\n",
       "      <td>3.1</td>\n",
       "      <td>60.0</td>\n",
       "      <td>10.0</td>\n",
       "      <td>7.6</td>\n",
       "      <td>0.000000</td>\n",
       "    </tr>\n",
       "    <tr>\n",
       "      <th>2019-01-01 04:00:00</th>\n",
       "      <td>-2.0</td>\n",
       "      <td>-7.1</td>\n",
       "      <td>76.4</td>\n",
       "      <td>4.6</td>\n",
       "      <td>60.0</td>\n",
       "      <td>10.0</td>\n",
       "      <td>6.5</td>\n",
       "      <td>0.000008</td>\n",
       "    </tr>\n",
       "    <tr>\n",
       "      <th>...</th>\n",
       "      <td>...</td>\n",
       "      <td>...</td>\n",
       "      <td>...</td>\n",
       "      <td>...</td>\n",
       "      <td>...</td>\n",
       "      <td>...</td>\n",
       "      <td>...</td>\n",
       "      <td>...</td>\n",
       "    </tr>\n",
       "    <tr>\n",
       "      <th>2021-12-31 19:00:00</th>\n",
       "      <td>8.9</td>\n",
       "      <td>8.4</td>\n",
       "      <td>62.0</td>\n",
       "      <td>0.0</td>\n",
       "      <td>0.0</td>\n",
       "      <td>2.0</td>\n",
       "      <td>1.5</td>\n",
       "      <td>NaN</td>\n",
       "    </tr>\n",
       "    <tr>\n",
       "      <th>2021-12-31 20:00:00</th>\n",
       "      <td>8.0</td>\n",
       "      <td>7.6</td>\n",
       "      <td>65.9</td>\n",
       "      <td>0.0</td>\n",
       "      <td>0.0</td>\n",
       "      <td>2.0</td>\n",
       "      <td>1.5</td>\n",
       "      <td>NaN</td>\n",
       "    </tr>\n",
       "    <tr>\n",
       "      <th>2021-12-31 21:00:00</th>\n",
       "      <td>7.3</td>\n",
       "      <td>6.9</td>\n",
       "      <td>70.1</td>\n",
       "      <td>0.0</td>\n",
       "      <td>0.0</td>\n",
       "      <td>6.0</td>\n",
       "      <td>1.5</td>\n",
       "      <td>NaN</td>\n",
       "    </tr>\n",
       "    <tr>\n",
       "      <th>2021-12-31 22:00:00</th>\n",
       "      <td>6.2</td>\n",
       "      <td>5.9</td>\n",
       "      <td>75.0</td>\n",
       "      <td>0.0</td>\n",
       "      <td>0.0</td>\n",
       "      <td>2.0</td>\n",
       "      <td>2.0</td>\n",
       "      <td>NaN</td>\n",
       "    </tr>\n",
       "    <tr>\n",
       "      <th>2021-12-31 23:00:00</th>\n",
       "      <td>5.4</td>\n",
       "      <td>5.1</td>\n",
       "      <td>77.1</td>\n",
       "      <td>0.0</td>\n",
       "      <td>0.0</td>\n",
       "      <td>4.0</td>\n",
       "      <td>1.5</td>\n",
       "      <td>NaN</td>\n",
       "    </tr>\n",
       "  </tbody>\n",
       "</table>\n",
       "<p>26304 rows × 8 columns</p>\n",
       "</div>"
      ],
      "text/plain": [
       "                     AirTemperature  ComfortTemperature  RelativeHumidity  \\\n",
       "DateTime                                                                    \n",
       "2019-01-01 00:00:00            -1.7                -6.1              75.3   \n",
       "2019-01-01 01:00:00            -1.8                -5.3              75.3   \n",
       "2019-01-01 02:00:00            -2.0                -6.0              74.7   \n",
       "2019-01-01 03:00:00            -1.9                -5.9              76.4   \n",
       "2019-01-01 04:00:00            -2.0                -7.1              76.4   \n",
       "...                             ...                 ...               ...   \n",
       "2021-12-31 19:00:00             8.9                 8.4              62.0   \n",
       "2021-12-31 20:00:00             8.0                 7.6              65.9   \n",
       "2021-12-31 21:00:00             7.3                 6.9              70.1   \n",
       "2021-12-31 22:00:00             6.2                 5.9              75.0   \n",
       "2021-12-31 23:00:00             5.4                 5.1              77.1   \n",
       "\n",
       "                     WindSpeed  WindDirection  WWCode  EffectiveCloudCover  \\\n",
       "DateTime                                                                     \n",
       "2019-01-01 00:00:00        3.6           60.0    10.0                  6.3   \n",
       "2019-01-01 01:00:00        2.6           70.0    10.0                  4.5   \n",
       "2019-01-01 02:00:00        3.1           80.0    10.0                  5.5   \n",
       "2019-01-01 03:00:00        3.1           60.0    10.0                  7.6   \n",
       "2019-01-01 04:00:00        4.6           60.0    10.0                  6.5   \n",
       "...                        ...            ...     ...                  ...   \n",
       "2021-12-31 19:00:00        0.0            0.0     2.0                  1.5   \n",
       "2021-12-31 20:00:00        0.0            0.0     2.0                  1.5   \n",
       "2021-12-31 21:00:00        0.0            0.0     6.0                  1.5   \n",
       "2021-12-31 22:00:00        0.0            0.0     2.0                  2.0   \n",
       "2021-12-31 23:00:00        0.0            0.0     4.0                  1.5   \n",
       "\n",
       "                     Generation  \n",
       "DateTime                         \n",
       "2019-01-01 00:00:00    0.000000  \n",
       "2019-01-01 01:00:00    0.000000  \n",
       "2019-01-01 02:00:00    0.000008  \n",
       "2019-01-01 03:00:00    0.000000  \n",
       "2019-01-01 04:00:00    0.000008  \n",
       "...                         ...  \n",
       "2021-12-31 19:00:00         NaN  \n",
       "2021-12-31 20:00:00         NaN  \n",
       "2021-12-31 21:00:00         NaN  \n",
       "2021-12-31 22:00:00         NaN  \n",
       "2021-12-31 23:00:00         NaN  \n",
       "\n",
       "[26304 rows x 8 columns]"
      ]
     },
     "execution_count": 3,
     "metadata": {},
     "output_type": "execute_result"
    }
   ],
   "source": [
    "generation_source=pd.read_csv('../input/enerjisa-enerji-veri-maratonu/generation.csv', sep=';', decimal=',', parse_dates=True)\n",
    "generation_nandrop=generation_source.dropna()\n",
    "\n",
    "temperature_source=pd.read_csv('../input/enerjisa-enerji-veri-maratonu/temperature.csv', sep=';', decimal=',', parse_dates=True)\n",
    "temperature_nandrop=temperature_source.drop(temperature_source.tail(95).index)\n",
    "\n",
    "merged=temperature_nandrop.merge(generation_nandrop, on='DateTime', how='left')\n",
    "\n",
    "merged['DateTime']=pd.to_datetime(merged['DateTime'])\n",
    "\n",
    "merged['Generation'] = np.log1p(merged[\"Generation\"].values)\n",
    "\n",
    "#df=create_time_features(df)\n",
    "\n",
    "merged[\"WWCode\"].fillna(method='ffill',inplace=True)\n",
    "\n",
    "#Thanks to other partipiciant's work I know exactly how to deal with this feature (reference link at the end of the notebook)\n",
    "merged['WWCode']=merged['WWCode'].replace([84], 83)\n",
    "\n",
    "#saving copies\n",
    "datetime_copy=merged['DateTime']\n",
    "merged_with_dt_as_column=merged\n",
    "merged=merged.set_index('DateTime')\n",
    "merged.index.freq='H'\n",
    "\n",
    "# normalizing\n",
    "#merged['WindDirection']=merged['WindDirection']/10\n",
    "#merged['WWCode']=merged['WWCode']/10\n",
    "\n",
    "merged"
   ]
  },
  {
   "cell_type": "code",
   "execution_count": 4,
   "id": "4c39b03c",
   "metadata": {
    "execution": {
     "iopub.execute_input": "2022-02-19T20:58:42.430869Z",
     "iopub.status.busy": "2022-02-19T20:58:42.430228Z",
     "iopub.status.idle": "2022-02-19T20:58:42.448116Z",
     "shell.execute_reply": "2022-02-19T20:58:42.448766Z",
     "shell.execute_reply.started": "2022-02-19T20:49:26.403558Z"
    },
    "papermill": {
     "duration": 0.036306,
     "end_time": "2022-02-19T20:58:42.448944",
     "exception": false,
     "start_time": "2022-02-19T20:58:42.412638",
     "status": "completed"
    },
    "tags": []
   },
   "outputs": [
    {
     "name": "stdout",
     "output_type": "stream",
     "text": [
      "<class 'pandas.core.frame.DataFrame'>\n",
      "DatetimeIndex: 26304 entries, 2019-01-01 00:00:00 to 2021-12-31 23:00:00\n",
      "Freq: H\n",
      "Data columns (total 8 columns):\n",
      " #   Column               Non-Null Count  Dtype  \n",
      "---  ------               --------------  -----  \n",
      " 0   AirTemperature       26304 non-null  float64\n",
      " 1   ComfortTemperature   26304 non-null  float64\n",
      " 2   RelativeHumidity     26304 non-null  float64\n",
      " 3   WindSpeed            26304 non-null  float64\n",
      " 4   WindDirection        26304 non-null  float64\n",
      " 5   WWCode               26304 non-null  float64\n",
      " 6   EffectiveCloudCover  26304 non-null  float64\n",
      " 7   Generation           25560 non-null  float64\n",
      "dtypes: float64(8)\n",
      "memory usage: 1.8 MB\n"
     ]
    }
   ],
   "source": [
    "merged.info()"
   ]
  },
  {
   "cell_type": "code",
   "execution_count": null,
   "id": "2b559d0e",
   "metadata": {
    "papermill": {
     "duration": 0.013257,
     "end_time": "2022-02-19T20:58:42.476449",
     "exception": false,
     "start_time": "2022-02-19T20:58:42.463192",
     "status": "completed"
    },
    "tags": []
   },
   "outputs": [],
   "source": []
  },
  {
   "cell_type": "code",
   "execution_count": 5,
   "id": "8826cc52",
   "metadata": {
    "execution": {
     "iopub.execute_input": "2022-02-19T20:58:42.521556Z",
     "iopub.status.busy": "2022-02-19T20:58:42.520775Z",
     "iopub.status.idle": "2022-02-19T21:01:55.943161Z",
     "shell.execute_reply": "2022-02-19T21:01:55.943833Z",
     "shell.execute_reply.started": "2022-02-19T20:49:26.431281Z"
    },
    "papermill": {
     "duration": 193.453477,
     "end_time": "2022-02-19T21:01:55.944061",
     "exception": false,
     "start_time": "2022-02-19T20:58:42.490584",
     "status": "completed"
    },
    "tags": []
   },
   "outputs": [
    {
     "name": "stderr",
     "output_type": "stream",
     "text": [
      "2022-02-19 20:58:42.693548: I tensorflow/core/common_runtime/process_util.cc:146] Creating new thread pool with default inter op setting: 2. Tune using inter_op_parallelism_threads for best performance.\n",
      "2022-02-19 20:58:44.198690: I tensorflow/compiler/mlir/mlir_graph_optimization_pass.cc:185] None of the MLIR Optimization Passes are enabled (registered 2)\n"
     ]
    },
    {
     "name": "stdout",
     "output_type": "stream",
     "text": [
      "Epoch 1/5\n",
      "205/205 [==============================] - 48s 179ms/step - loss: 0.5988 - mse: 0.5988 - val_loss: 0.0317 - val_mse: 0.0317\n",
      "Epoch 2/5\n",
      "205/205 [==============================] - 34s 168ms/step - loss: 0.1678 - mse: 0.1678 - val_loss: 0.0120 - val_mse: 0.0120\n",
      "Epoch 3/5\n",
      "205/205 [==============================] - 37s 179ms/step - loss: 0.0668 - mse: 0.0668 - val_loss: 0.0088 - val_mse: 0.0088\n",
      "Epoch 4/5\n",
      "205/205 [==============================] - 36s 174ms/step - loss: 0.0318 - mse: 0.0318 - val_loss: 0.0060 - val_mse: 0.0060\n",
      "Epoch 5/5\n",
      "205/205 [==============================] - 37s 179ms/step - loss: 0.0177 - mse: 0.0177 - val_loss: 0.0054 - val_mse: 0.0054\n"
     ]
    }
   ],
   "source": [
    "#training data\n",
    "df_for_training=merged.drop(merged.tail(31*24).index)\n",
    "\n",
    "# hyperparameters\n",
    "LEARNING_RATE=1e-3\n",
    "DECAY=1e-5\n",
    "MAX_EPOCHS=5\n",
    "BATCH_SIZE=100\n",
    "VALID_SPLIT=0.2\n",
    "PATIENCE=10\n",
    "\n",
    "n_future=1*24\n",
    "n_past=1*24\n",
    "\n",
    "scaler=MinMaxScaler()\n",
    "scaler=scaler.fit(df_for_training)\n",
    "df_for_training_scaled=scaler.transform(df_for_training)\n",
    "\n",
    "#creating the required shape for LSTM network (samples (rows), timesteps, features (columns))\n",
    "trainX=[]\n",
    "trainY=[]\n",
    "\n",
    "for i in range(n_past, len(df_for_training_scaled)-n_future+1):\n",
    "    trainX.append(df_for_training_scaled[i - n_past:i, 0:df_for_training.shape[1]])\n",
    "    trainY.append(df_for_training_scaled[i + n_future - 1:i + n_future, 0])\n",
    "\n",
    "trainX, trainY=np.array(trainX), np.array(trainY)\n",
    "\n",
    "#model architecture\n",
    "model=Sequential()\n",
    "\n",
    "model.add(LSTM(32, input_shape=(trainX.shape[1], trainX.shape[2]), return_sequences=True))\n",
    "model.add(Dropout(0.3))\n",
    "model.add(BatchNormalization())\n",
    "\n",
    "model.add(LSTM(64, return_sequences=True))\n",
    "model.add(Dropout(0.3))\n",
    "model.add(BatchNormalization())\n",
    "\n",
    "model.add(LSTM(128, return_sequences=True))\n",
    "model.add(Dropout(0.3))\n",
    "model.add(BatchNormalization())\n",
    "\n",
    "model.add(LSTM(64, return_sequences=True))\n",
    "model.add(Dropout(0.3))\n",
    "model.add(BatchNormalization())\n",
    "\n",
    "model.add(LSTM(32, return_sequences=False))\n",
    "model.add(Dropout(0.3))\n",
    "model.add(BatchNormalization())\n",
    "\n",
    "model.add(Dense(1))\n",
    "\n",
    "#optimizing and training\n",
    "opt=tf.keras.optimizers.Adam(learning_rate=LEARNING_RATE, decay=DECAY)\n",
    "\n",
    "model.compile(loss='mse', optimizer=opt, metrics=['mse'])\n",
    "early_stopping=tf.keras.callbacks.EarlyStopping(patience=PATIENCE, restore_best_weights=True)\n",
    "\n",
    "history=model.fit(trainX, trainY,\n",
    "        epochs=MAX_EPOCHS, batch_size=BATCH_SIZE, validation_split=VALID_SPLIT,\n",
    "                 callbacks=[early_stopping], verbose=1)\n",
    "\n",
    "\n",
    "#model.compile(optimizer='rmsprop', loss='binary_crossentropy', metrics=['acc'])\n",
    "#y2 = df[\"rating\"].apply(lambda x: (x - min_rating) / (max_rating - min_rating)).values\n",
    "#model.fit(partial_x_train, partial_y_train, epochs=Numepochs, batch_size=Batchsize, validation_data=(x_val, y_val))"
   ]
  },
  {
   "cell_type": "code",
   "execution_count": 6,
   "id": "c1ebdbde",
   "metadata": {
    "execution": {
     "iopub.execute_input": "2022-02-19T21:01:56.729487Z",
     "iopub.status.busy": "2022-02-19T21:01:56.728677Z",
     "iopub.status.idle": "2022-02-19T21:01:57.148924Z",
     "shell.execute_reply": "2022-02-19T21:01:57.149428Z",
     "shell.execute_reply.started": "2022-02-19T20:52:58.081444Z"
    },
    "papermill": {
     "duration": 0.816347,
     "end_time": "2022-02-19T21:01:57.149614",
     "exception": false,
     "start_time": "2022-02-19T21:01:56.333267",
     "status": "completed"
    },
    "tags": []
   },
   "outputs": [
    {
     "name": "stdout",
     "output_type": "stream",
     "text": [
      "Minimum Validation Loss: 0.0054\n"
     ]
    },
    {
     "data": {
      "image/png": "[encoded data removed]",
      "text/plain": [
       "<Figure size 1152x576 with 1 Axes>"
      ]
     },
     "metadata": {},
     "output_type": "display_data"
    }
   ],
   "source": [
    "\n",
    "\n",
    "history_df = pd.DataFrame(history.history)\n",
    "history_df.loc[:, ['loss', 'val_loss']].plot(figsize=(16,8))\n",
    "print(\"Minimum Validation Loss: {:0.4f}\".format(history_df['val_loss'].min()))"
   ]
  },
  {
   "cell_type": "code",
   "execution_count": 7,
   "id": "d5ed2ede",
   "metadata": {
    "execution": {
     "iopub.execute_input": "2022-02-19T21:01:57.930470Z",
     "iopub.status.busy": "2022-02-19T21:01:57.929771Z",
     "iopub.status.idle": "2022-02-19T21:02:01.207686Z",
     "shell.execute_reply": "2022-02-19T21:02:01.208597Z",
     "shell.execute_reply.started": "2022-02-19T20:52:58.494236Z"
    },
    "papermill": {
     "duration": 3.673469,
     "end_time": "2022-02-19T21:02:01.208827",
     "exception": false,
     "start_time": "2022-02-19T21:01:57.535358",
     "status": "completed"
    },
    "tags": []
   },
   "outputs": [
    {
     "data": {
      "text/plain": [
       "[<matplotlib.lines.Line2D at 0x7f5f1c884f90>]"
      ]
     },
     "execution_count": 7,
     "metadata": {},
     "output_type": "execute_result"
    },
    {
     "data": {
      "image/png": "[encoded data removed]",
      "text/plain": [
       "<Figure size 1152x576 with 1 Axes>"
      ]
     },
     "metadata": {},
     "output_type": "display_data"
    }
   ],
   "source": [
    "n_hours_for_prediction=24*31 \n",
    "\n",
    "forecast=model.predict(trainX[-n_hours_for_prediction:])\n",
    "\n",
    "forecast_copies=np.repeat(forecast, df_for_training.shape[1], axis=-1)\n",
    "y_pred_future=scaler.inverse_transform(forecast_copies)[:,0]\n",
    "\n",
    "k=df_for_training.Generation.mean()/y_pred_future.mean()\n",
    "y_pred_future=k*y_pred_future\n",
    "plt.figure(figsize=(16,8))\n",
    "plt.plot(y_pred_future)"
   ]
  },
  {
   "cell_type": "code",
   "execution_count": null,
   "id": "b3c247c1",
   "metadata": {
    "papermill": {
     "duration": 0.392804,
     "end_time": "2022-02-19T21:02:02.019332",
     "exception": false,
     "start_time": "2022-02-19T21:02:01.626528",
     "status": "completed"
    },
    "tags": []
   },
   "outputs": [],
   "source": []
  },
  {
   "cell_type": "code",
   "execution_count": 8,
   "id": "1f5ee2d2",
   "metadata": {
    "execution": {
     "iopub.execute_input": "2022-02-19T21:02:02.810436Z",
     "iopub.status.busy": "2022-02-19T21:02:02.807597Z",
     "iopub.status.idle": "2022-02-19T21:02:02.855497Z",
     "shell.execute_reply": "2022-02-19T21:02:02.856037Z",
     "shell.execute_reply.started": "2022-02-19T20:53:01.798145Z"
    },
    "papermill": {
     "duration": 0.444124,
     "end_time": "2022-02-19T21:02:02.856306",
     "exception": false,
     "start_time": "2022-02-19T21:02:02.412182",
     "status": "completed"
    },
    "tags": []
   },
   "outputs": [
    {
     "name": "stdout",
     "output_type": "stream",
     "text": [
      "[2.3842906817318785]\n",
      "RMSE Score:  2.3842906817318785\n"
     ]
    }
   ],
   "source": [
    "from sklearn.metrics import mean_squared_error\n",
    "rmse_score = np.sqrt(mean_squared_error(trainY[-n_hours_for_prediction:], y_pred_future))\n",
    "\n",
    "score_list = []\n",
    "score_list.append(rmse_score)\n",
    "\n",
    "\n",
    "print(score_list)\n",
    "print(\"RMSE Score: \", np.mean(score_list))"
   ]
  },
  {
   "cell_type": "code",
   "execution_count": 9,
   "id": "7a6cb3ab",
   "metadata": {
    "execution": {
     "iopub.execute_input": "2022-02-19T21:02:03.679908Z",
     "iopub.status.busy": "2022-02-19T21:02:03.679235Z",
     "iopub.status.idle": "2022-02-19T21:02:03.700884Z",
     "shell.execute_reply": "2022-02-19T21:02:03.700362Z",
     "shell.execute_reply.started": "2022-02-19T20:53:49.323671Z"
    },
    "papermill": {
     "duration": 0.432491,
     "end_time": "2022-02-19T21:02:03.701032",
     "exception": false,
     "start_time": "2022-02-19T21:02:03.268541",
     "status": "completed"
    },
    "tags": []
   },
   "outputs": [
    {
     "name": "stdout",
     "output_type": "stream",
     "text": [
      "Submission File Created\n"
     ]
    }
   ],
   "source": [
    "submission = pd.read_csv('../input/enerjisa-enerji-veri-maratonu/sample_submission.csv')\n",
    "submission['Generation'] = y_pred_future\n",
    "submission.to_csv('submission.csv', index=False)\n",
    "print(\"Submission File Created\")"
   ]
  }
 ],
 "metadata": {
  "kernelspec": {
   "display_name": "Python 3",
   "language": "python",
   "name": "python3"
  },
  "language_info": {
   "codemirror_mode": {
    "name": "ipython",
    "version": 3
   },
   "file_extension": ".py",
   "mimetype": "text/x-python",
   "name": "python",
   "nbconvert_exporter": "python",
   "pygments_lexer": "ipython3",
   "version": "3.7.12"
  },
  "papermill": {
   "default_parameters": {},
   "duration": 225.82443,
   "end_time": "2022-02-19T21:02:07.675497",
   "environment_variables": {},
   "exception": null,
   "input_path": "__notebook__.ipynb",
   "output_path": "__notebook__.ipynb",
   "parameters": {},
   "start_time": "2022-02-19T20:58:21.851067",
   "version": "2.3.3"
  }
 },
 "nbformat": 4,
 "nbformat_minor": 5
}
